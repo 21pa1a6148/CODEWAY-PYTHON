{
  "nbformat": 4,
  "nbformat_minor": 0,
  "metadata": {
    "colab": {
      "provenance": []
    },
    "kernelspec": {
      "name": "python3",
      "display_name": "Python 3"
    },
    "language_info": {
      "name": "python"
    }
  },
  "cells": [
    {
      "cell_type": "code",
      "execution_count": null,
      "metadata": {
        "id": "GnOs4u26yZUc",
        "colab": {
          "base_uri": "https://localhost:8080/"
        },
        "outputId": "234e991e-30fb-4243-eb4b-62d55934dc8a"
      },
      "outputs": [
        {
          "output_type": "stream",
          "name": "stdout",
          "text": [
            "Enter city name or zipcode: bhimavaram\n",
            "Temperature (in Celsius unit) : 32.89\n",
            "Atmospheric pressure (in hPa unit) : 1010\n",
            "Humidity (in percentage) : 52\n",
            "Description: broken clouds\n"
          ]
        }
      ],
      "source": [
        "import requests\n",
        "def get_weather(location):\n",
        "    api_key = \"bb197c411e866ae3f1479038cba43e97\"\n",
        "    base_url = \"http://api.openweathermap.org/data/2.5/weather?\"\n",
        "    if location.isdigit():\n",
        "        main_url = base_url + \"zip=\" + location + \"&appid=\" + api_key\n",
        "        response = requests.get(main_url)\n",
        "        data = response.json()\n",
        "\n",
        "    else:\n",
        "        main_url = base_url + \"q=\" + location + \"&appid=\" + api_key\n",
        "        response = requests.get(main_url)\n",
        "        data = response.json()\n",
        "\n",
        "    if data[\"cod\"] != \"404\":\n",
        "        main_data = data[\"main\"]\n",
        "        temp_kelvin = main_data[\"temp\"]\n",
        "        temp_celsius = round(temp_kelvin - 273.15, 2)\n",
        "        pressure = main_data[\"pressure\"]\n",
        "        humidity = main_data[\"humidity\"]\n",
        "\n",
        "        weather_data = data[\"weather\"]\n",
        "        weather_description = weather_data[0][\"description\"]\n",
        "\n",
        "        print(\"Temperature (in Celsius unit) :\", temp_celsius)\n",
        "        print(\"Atmospheric pressure (in hPa unit) :\", pressure)\n",
        "        print(\"Humidity (in percentage) :\", humidity)\n",
        "        print(\"Description:\", weather_description)\n",
        "\n",
        "    else:\n",
        "        print(\"City not found!\")\n",
        "\n",
        "if __name__ == \"__main__\":\n",
        "    location = input(\"Enter city name or zipcode: \")\n",
        "get_weather(location)"
      ]
    },
    {
      "cell_type": "code",
      "source": [],
      "metadata": {
        "id": "2FhjyPvEyl9g"
      },
      "execution_count": null,
      "outputs": []
    }
  ]
}