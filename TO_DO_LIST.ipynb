{
  "cells": [
    {
      "cell_type": "code",
      "execution_count": null,
      "metadata": {
        "colab": {
          "background_save": true,
          "base_uri": "https://localhost:8080/"
        },
        "id": "t_SLKC0butAq",
        "outputId": "d9b80d0f-8852-498e-ebff-314c446549ae"
      },
      "outputs": [
        {
          "name": "stdout",
          "output_type": "stream",
          "text": [
            "\n",
            "To-Do-List Application\n",
            "1.Add Task\n",
            "2.View Task\n",
            "3.Delete Task\n",
            "4.Quit\n",
            "\n",
            "Task added Successfully.\n",
            "\n",
            "To-Do-List Application\n",
            "1.Add Task\n",
            "2.View Task\n",
            "3.Delete Task\n",
            "4.Quit\n",
            "Tasks:\n",
            "1.coding\n",
            "Invalid Task Number.\n",
            "\n",
            "To-Do-List Application\n",
            "1.Add Task\n",
            "2.View Task\n",
            "3.Delete Task\n",
            "4.Quit\n",
            "\n",
            "Task added Successfully.\n",
            "\n",
            "To-Do-List Application\n",
            "1.Add Task\n",
            "2.View Task\n",
            "3.Delete Task\n",
            "4.Quit\n"
          ]
        }
      ],
      "source": [
        "tasks=[]\n",
        "def add_tasks():\n",
        "    task=input(\"Enter a new task: \")\n",
        "    tasks.append(task)\n",
        "    print(\"\\nTask added Successfully.\")\n",
        "\n",
        "def delete_tasks():\n",
        "    if len(tasks)==0:\n",
        "        print(\"No Tasks to Delete.\")\n",
        "    else:\n",
        "        print(\"Tasks:\")\n",
        "        for i,task in enumerate(tasks):\n",
        "            print(f\"{i+1}.{task}\")\n",
        "        choice=int(input(\"Enter the task number to delete: \"))\n",
        "        if 0 < choice <= len(tasks):\n",
        "            del tasks[choice-1]\n",
        "            print(\"Task deleted Successfully.\")\n",
        "        else:\n",
        "            print(\"Invalid Task Number.\")\n",
        "\n",
        "def view_tasks():\n",
        "    if len(tasks)==0:\n",
        "        print(\"No Tasks.\")\n",
        "    else:\n",
        "        print(\"List of Tasks:\")\n",
        "        for i, task in enumerate(tasks):\n",
        "            print(f\"{i+1}.{task}\")\n",
        "\n",
        "def main():\n",
        "    while True:\n",
        "        print(\"\\nTo-Do-List Application\")\n",
        "        print(\"1.Add Task\")\n",
        "        print(\"2.View Task\")\n",
        "        print(\"3.Delete Task\")\n",
        "        print(\"4.Quit\")\n",
        "\n",
        "        choice=int(input(\"Enter your choice: \"))\n",
        "        if choice==1:\n",
        "            add_tasks()\n",
        "        elif choice==2:\n",
        "            view_tasks()\n",
        "        elif choice==3:\n",
        "            delete_tasks()\n",
        "        elif choice==4:\n",
        "            print(\"Exited from the To-Do-List.\")\n",
        "            break\n",
        "        else:\n",
        "            print(\"Invalid choice,please enter correct choice: \")\n",
        "\n",
        "if __name__==\"__main__\":\n",
        "    main()"
      ]
    },
    {
      "cell_type": "code",
      "execution_count": null,
      "metadata": {
        "id": "snRE-d7Aw7GC"
      },
      "outputs": [],
      "source": []
    }
  ],
  "metadata": {
    "colab": {
      "provenance": []
    },
    "kernelspec": {
      "display_name": "Python 3",
      "name": "python3"
    },
    "language_info": {
      "name": "python"
    }
  },
  "nbformat": 4,
  "nbformat_minor": 0
}