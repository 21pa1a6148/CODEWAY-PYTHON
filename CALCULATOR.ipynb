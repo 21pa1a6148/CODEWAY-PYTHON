{
  "nbformat": 4,
  "nbformat_minor": 0,
  "metadata": {
    "colab": {
      "provenance": []
    },
    "kernelspec": {
      "name": "python3",
      "display_name": "Python 3"
    },
    "language_info": {
      "name": "python"
    }
  },
  "cells": [
    {
      "cell_type": "code",
      "execution_count": null,
      "metadata": {
        "colab": {
          "base_uri": "https://localhost:8080/"
        },
        "id": "8VKACMXXxhlD",
        "outputId": "0b15efcc-4ca8-4c09-85b1-021089872661"
      },
      "outputs": [
        {
          "output_type": "stream",
          "name": "stdout",
          "text": [
            "Enter first value: 10\n",
            "Enter second value: 12\n",
            "please select your Arithmetic operation: \n",
            "Press 1 for Addition \n",
            "Press 2 for Subtraction \n",
            "Press 3 for Multiplication \n",
            "Press 4 for Division\n",
            "Enter your option: 4\n",
            "Division of a / b = :  0.8333333333333334\n"
          ]
        }
      ],
      "source": [
        "def switch():\n",
        "    a = float(input(\"Enter first value: \"))\n",
        "    b = float(input(\"Enter second value: \"))\n",
        "    print(\"please select your Arithmetic operation: \\nPress 1 for Addition \\nPress 2 for Subtraction \\nPress 3 for Multiplication \\nPress 4 for Division\")\n",
        "    option = int(input(\"Enter your option: \"))\n",
        "    if option == 1:\n",
        "        result = a+b\n",
        "        print(\"Addition of a + b = : \", result)\n",
        "    elif option == 2:\n",
        "        result = a-b\n",
        "        print(\"Subtraction of a - b = : \",result)\n",
        "    elif option == 3:\n",
        "        result = a*b\n",
        "        print(\"Multiplication of a * b = : \", result)\n",
        "    elif option == 4:\n",
        "        result = a/b\n",
        "        print(\"Division of a / b = : \",result)\n",
        "    else:\n",
        "        print(\"Invalid Value\")\n",
        "switch()"
      ]
    },
    {
      "cell_type": "code",
      "source": [],
      "metadata": {
        "id": "VhXYwV-Hx-jV"
      },
      "execution_count": null,
      "outputs": []
    }
  ]
}